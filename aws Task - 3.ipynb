{
 "cells": [
  {
   "cell_type": "markdown",
   "id": "284d5589",
   "metadata": {},
   "source": [
    "#### 3A ) Launch an EC2 instance and an EBS volume, and then attach the volume to the instance using the AWS Command Line Interface (CLI)."
   ]
  },
  {
   "cell_type": "markdown",
   "id": "476e4892",
   "metadata": {},
   "source": [
    "1. aws ec2 run-instances --image-id ami-0b9ecf71fe947bbdd --instance-type t2.micro\n",
    "2. aws ec2 create-volume --availability-zone ap-south-1a --size 2\n",
    "3. aws ec2 attach-volume --instance-id i-09ef72306a745c7d5 --volume-id vol-0b87ee2ba4d1d1d1a --device sdfb\n"
   ]
  },
  {
   "cell_type": "markdown",
   "id": "75eb13cc",
   "metadata": {},
   "source": [
    " #### 3B) Launch an EC2 instance and an EBS volume, and then attach the volume to the instance programmatically using API(boto3)."
   ]
  },
  {
   "cell_type": "markdown",
   "id": "70c3af70",
   "metadata": {},
   "source": [
    "1. Importing boto3 library"
   ]
  },
  {
   "cell_type": "code",
   "execution_count": 1,
   "id": "241dcc70",
   "metadata": {},
   "outputs": [],
   "source": [
    "import boto3"
   ]
  },
  {
   "cell_type": "markdown",
   "id": "a82d51a3",
   "metadata": {},
   "source": [
    "2. Accessing ec2 servive using boto3 resource"
   ]
  },
  {
   "cell_type": "code",
   "execution_count": 9,
   "id": "4c6c8cb9",
   "metadata": {},
   "outputs": [],
   "source": [
    "ec2 = boto3.resource(\"ec2\")"
   ]
  },
  {
   "cell_type": "markdown",
   "id": "21444ff0",
   "metadata": {},
   "source": [
    "3. Creating instance"
   ]
  },
  {
   "cell_type": "code",
   "execution_count": 10,
   "id": "45b277b9",
   "metadata": {},
   "outputs": [
    {
     "name": "stdout",
     "output_type": "stream",
     "text": [
      "[ec2.Instance(id='i-0c22f0cbfc38e3e4f')]\n"
     ]
    }
   ],
   "source": [
    " instance = ec2.create_instances(\n",
    "      ImageId='ami-0b9ecf71fe947bbdd',\n",
    "      InstanceType='t2.micro',\n",
    "      MaxCount=1,\n",
    "      MinCount=1,\n",
    "      Placement={\n",
    "          'AvailabilityZone': 'ap-south-1a'\n",
    "      }\n",
    "  )\n",
    "print(instance)"
   ]
  },
  {
   "cell_type": "markdown",
   "id": "7d2aaacc",
   "metadata": {},
   "source": [
    "4. Creating volume"
   ]
  },
  {
   "cell_type": "code",
   "execution_count": 11,
   "id": "3fbd6655",
   "metadata": {},
   "outputs": [
    {
     "name": "stdout",
     "output_type": "stream",
     "text": [
      "ec2.Volume(id='vol-04ff177427354bfd2')\n"
     ]
    }
   ],
   "source": [
    "volume = ec2.create_volume(\n",
    "      AvailabilityZone='ap-south-1a',\n",
    "      Size=2,\n",
    "  )\n",
    "print(volume)"
   ]
  },
  {
   "cell_type": "markdown",
   "id": "f95167d3",
   "metadata": {},
   "source": [
    "5. Accessing ec2 client to attach volume to ec2 instance"
   ]
  },
  {
   "cell_type": "code",
   "execution_count": 12,
   "id": "1164a2bd",
   "metadata": {},
   "outputs": [],
   "source": [
    "ec2_client = boto3.client(\"ec2\")"
   ]
  },
  {
   "cell_type": "markdown",
   "id": "27bd7597",
   "metadata": {},
   "source": [
    "6. Attaching Volume"
   ]
  },
  {
   "cell_type": "code",
   "execution_count": 14,
   "id": "75947048",
   "metadata": {},
   "outputs": [],
   "source": [
    "response = ec2_client.attach_volume(\n",
    "      Device='sdf',\n",
    "      InstanceId='i-0c22f0cbfc38e3e4f',\n",
    "      VolumeId='vol-04ff177427354bfd2',\n",
    "  )"
   ]
  },
  {
   "cell_type": "markdown",
   "id": "158dbe20",
   "metadata": {},
   "source": [
    "7. Printing response variable"
   ]
  },
  {
   "cell_type": "code",
   "execution_count": 16,
   "id": "82638616",
   "metadata": {},
   "outputs": [
    {
     "data": {
      "text/plain": [
       "{'AttachTime': datetime.datetime(2023, 6, 30, 19, 30, 31, 652000, tzinfo=tzutc()),\n",
       " 'Device': 'sdf',\n",
       " 'InstanceId': 'i-0c22f0cbfc38e3e4f',\n",
       " 'State': 'attaching',\n",
       " 'VolumeId': 'vol-04ff177427354bfd2',\n",
       " 'ResponseMetadata': {'RequestId': '01c65fc1-ee4e-4522-ae42-15d3fdb6380e',\n",
       "  'HTTPStatusCode': 200,\n",
       "  'HTTPHeaders': {'x-amzn-requestid': '01c65fc1-ee4e-4522-ae42-15d3fdb6380e',\n",
       "   'cache-control': 'no-cache, no-store',\n",
       "   'strict-transport-security': 'max-age=31536000; includeSubDomains',\n",
       "   'content-type': 'text/xml;charset=UTF-8',\n",
       "   'content-length': '405',\n",
       "   'date': 'Fri, 30 Jun 2023 19:30:31 GMT',\n",
       "   'server': 'AmazonEC2'},\n",
       "  'RetryAttempts': 0}}"
      ]
     },
     "execution_count": 16,
     "metadata": {},
     "output_type": "execute_result"
    }
   ],
   "source": [
    "response"
   ]
  }
 ],
 "metadata": {
  "kernelspec": {
   "display_name": "Python 3 (ipykernel)",
   "language": "python",
   "name": "python3"
  },
  "language_info": {
   "codemirror_mode": {
    "name": "ipython",
    "version": 3
   },
   "file_extension": ".py",
   "mimetype": "text/x-python",
   "name": "python",
   "nbconvert_exporter": "python",
   "pygments_lexer": "ipython3",
   "version": "3.10.9"
  }
 },
 "nbformat": 4,
 "nbformat_minor": 5
}
